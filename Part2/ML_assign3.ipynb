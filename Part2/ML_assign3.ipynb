{
  "nbformat": 4,
  "nbformat_minor": 0,
  "metadata": {
    "colab": {
      "name": "ML_assign3.ipynb",
      "provenance": [],
      "collapsed_sections": []
    },
    "kernelspec": {
      "name": "python3",
      "display_name": "Python 3"
    }
  },
  "cells": [
    {
      "cell_type": "code",
      "metadata": {
        "id": "tb3KodLWQ1YX"
      },
      "source": [
        "# Step 1: load modules\n",
        "import numpy as np\n",
        "import matplotlib.pyplot as plt"
      ],
      "execution_count": 1,
      "outputs": []
    },
    {
      "cell_type": "code",
      "metadata": {
        "id": "y684BaKkQ862",
        "outputId": "14214088-9883-4972-dc04-a1b2bc99b8e5",
        "colab": {
          "base_uri": "https://localhost:8080/"
        }
      },
      "source": [
        "# Step 2: Define domain x\n",
        "x = np.linspace(0.0, 0.5, 11, endpoint=True)\n",
        "print(\"x: \", x)"
      ],
      "execution_count": 2,
      "outputs": [
        {
          "output_type": "stream",
          "text": [
            "x:  [0.   0.05 0.1  0.15 0.2  0.25 0.3  0.35 0.4  0.45 0.5 ]\n"
          ],
          "name": "stdout"
        }
      ]
    },
    {
      "cell_type": "code",
      "metadata": {
        "id": "Y6GZw3A1RAMc",
        "outputId": "77154ac0-7af0-4d8e-e4f3-513ef44339ef",
        "colab": {
          "base_uri": "https://localhost:8080/"
        }
      },
      "source": [
        "# Step 3: Denote y as a function of x\n",
        "y = np.sqrt( (x*x + np.sin(15*x)*np.sin(15*x)) ) / (1-x)\n",
        "print(\"y: \", y)"
      ],
      "execution_count": 7,
      "outputs": [
        {
          "output_type": "stream",
          "text": [
            "y:  [  0.           0.30224103   0.58964326   0.83576749   1.016811\n",
            "   1.11388335   1.11501492   1.01684728   0.82637444   0.56553497\n",
            "   0.30596889   0.34706363   0.66238513   0.9936084    1.27145501\n",
            "   1.46075542   1.53867664   1.4943518    1.33203923   1.07914504\n",
            "   0.81321212   0.72471797   0.96272695   1.36860818   1.7837082\n",
            "   2.12588236   2.34547512   2.41322585   2.32212153   2.09730445\n",
            "   1.81975556   1.66412552   1.84254803   2.36200294   3.04943735\n",
            "   3.74739114   4.34576366   4.76788885   4.96998795   4.95646123\n",
            "   4.81640555   4.78452681   5.25420408   6.57313452   8.83864246\n",
            "  12.06677009  16.47422948  22.865666    34.04128873  64.7241783\n",
            "          inf -54.72209523 -26.13918095 -17.95075825 -14.73506942\n",
            " -13.1020547  -11.90872474 -10.75701938  -9.542202    -8.28729268\n",
            "  -7.07810329  -6.03229303  -5.26814983  -4.85003271  -4.7330055\n",
            "  -4.78037485  -4.84573039  -4.82965663  -4.68875876  -4.4256043\n",
            "  -4.07737098  -3.7059641   -3.38548794  -3.18007523  -3.11344279\n",
            "  -3.15425998  -3.23731289  -3.2986677   -3.29637359  -3.21516434\n",
            "  -3.0641621   -2.87244994  -2.68257131  -2.53931323  -2.47256439\n",
            "  -2.4821497   -2.53880257  -2.60129948  -2.63429467  -2.61751657\n",
            "  -2.54787133  -2.43807038  -2.31315584  -2.20418681  -2.13802986\n",
            "  -2.12570006  -2.15705214  -2.2069852   -2.24773343  -2.25865098\n",
            "  -2.23074124]\n"
          ],
          "name": "stdout"
        },
        {
          "output_type": "stream",
          "text": [
            "/usr/local/lib/python3.6/dist-packages/ipykernel_launcher.py:2: RuntimeWarning: divide by zero encountered in true_divide\n",
            "  \n"
          ],
          "name": "stderr"
        }
      ]
    },
    {
      "cell_type": "code",
      "metadata": {
        "id": "wIhkf4HYRIVy",
        "outputId": "ed7482bb-1771-4d45-abef-33f9cf403d22",
        "colab": {
          "base_uri": "https://localhost:8080/",
          "height": 265
        }
      },
      "source": [
        "# Step 4: Plot y\n",
        "plt.plot(x, y, '-o')\n",
        "plt.show()"
      ],
      "execution_count": 8,
      "outputs": [
        {
          "output_type": "display_data",
          "data": {
            "image/png": "[encoded data removed]",
            "text/plain": [
              "<Figure size 432x288 with 1 Axes>"
            ]
          },
          "metadata": {
            "tags": [],
            "needs_background": "light"
          }
        }
      ]
    },
    {
      "cell_type": "markdown",
      "metadata": {
        "id": "VFOLDbmxi6Jb"
      },
      "source": [
        "** when x = [0, 0.5] with 100 intervals**\n"
      ]
    },
    {
      "cell_type": "code",
      "metadata": {
        "id": "QT1_6DP-ROUF",
        "outputId": "fb3533c1-a6a8-47ab-d88d-1ac0f86557d9",
        "colab": {
          "base_uri": "https://localhost:8080/"
        }
      },
      "source": [
        "# Step 5: Change domain x\n",
        "x = np.linspace(0.0, 0.5, 100, endpoint=True)\n",
        "print(\"x: \", x)"
      ],
      "execution_count": 15,
      "outputs": [
        {
          "output_type": "stream",
          "text": [
            "x:  [0.         0.00505051 0.01010101 0.01515152 0.02020202 0.02525253\n",
            " 0.03030303 0.03535354 0.04040404 0.04545455 0.05050505 0.05555556\n",
            " 0.06060606 0.06565657 0.07070707 0.07575758 0.08080808 0.08585859\n",
            " 0.09090909 0.0959596  0.1010101  0.10606061 0.11111111 0.11616162\n",
            " 0.12121212 0.12626263 0.13131313 0.13636364 0.14141414 0.14646465\n",
            " 0.15151515 0.15656566 0.16161616 0.16666667 0.17171717 0.17676768\n",
            " 0.18181818 0.18686869 0.19191919 0.1969697  0.2020202  0.20707071\n",
            " 0.21212121 0.21717172 0.22222222 0.22727273 0.23232323 0.23737374\n",
            " 0.24242424 0.24747475 0.25252525 0.25757576 0.26262626 0.26767677\n",
            " 0.27272727 0.27777778 0.28282828 0.28787879 0.29292929 0.2979798\n",
            " 0.3030303  0.30808081 0.31313131 0.31818182 0.32323232 0.32828283\n",
            " 0.33333333 0.33838384 0.34343434 0.34848485 0.35353535 0.35858586\n",
            " 0.36363636 0.36868687 0.37373737 0.37878788 0.38383838 0.38888889\n",
            " 0.39393939 0.3989899  0.4040404  0.40909091 0.41414141 0.41919192\n",
            " 0.42424242 0.42929293 0.43434343 0.43939394 0.44444444 0.44949495\n",
            " 0.45454545 0.45959596 0.46464646 0.46969697 0.47474747 0.47979798\n",
            " 0.48484848 0.48989899 0.49494949 0.5       ]\n"
          ],
          "name": "stdout"
        }
      ]
    },
    {
      "cell_type": "code",
      "metadata": {
        "id": "L4puhGADRR_F",
        "outputId": "f8c31ddc-8b8d-46a6-b669-8e43974892d7",
        "colab": {
          "base_uri": "https://localhost:8080/"
        }
      },
      "source": [
        "# Step 3: Denote y as a function of x\n",
        "y = np.sqrt( (x*x + np.sin(15*x)*np.sin(15*x)) ) / (1-x)\n",
        "print(\"y: \", y)"
      ],
      "execution_count": 16,
      "outputs": [
        {
          "output_type": "stream",
          "text": [
            "y:  [0.         0.0762385  0.15281732 0.22930438 0.30526379 0.38025824\n",
            " 0.45385154 0.52561103 0.59511009 0.66193062 0.72566553 0.78592113\n",
            " 0.84231956 0.8945011  0.94212646 0.98487898 1.0224667  1.05462444\n",
            " 1.08111569 1.10173445 1.11630692 1.12469321 1.12678884 1.12252624\n",
            " 1.11187632 1.09484994 1.07149963 1.04192161 1.00625828 0.96470172\n",
            " 0.91749869 0.86495833 0.80746437 0.74549529 0.67965886 0.61075361\n",
            " 0.5398826  0.46867224 0.39970262 0.33732598 0.28889858 0.26496167\n",
            " 0.27402639 0.3143475  0.37638474 0.45112148 0.53271611 0.61765814\n",
            " 0.70373847 0.78944393 0.87364477 0.95543468 1.03404702 1.10880963\n",
            " 1.17911998 1.24443151 1.30424629 1.35811136 1.40561745 1.44639903\n",
            " 1.48013537 1.5065522  1.52542396 1.53657633 1.53988939 1.53530111\n",
            " 1.5228117  1.5024887  1.47447356 1.43898993 1.39635484 1.34699371\n",
            " 1.29146116 1.23047036 1.16493447 1.09602555 1.0252571  0.95459576\n",
            " 0.88660001 0.82455965 0.77255249 0.73524396 0.71721088 0.72178437\n",
            " 0.74994593 0.80008353 0.86877962 0.95196158 1.0457365  1.14675188\n",
            " 1.2522437  1.35995363 1.46801901 1.57487578 1.67918442 1.77977681\n",
            " 1.8756197  1.96579005 2.04945909 2.12588236]\n"
          ],
          "name": "stdout"
        }
      ]
    },
    {
      "cell_type": "code",
      "metadata": {
        "id": "q0ppH-nziaJF",
        "outputId": "01eee8f1-20a5-48eb-f566-309eb67836f8",
        "colab": {
          "base_uri": "https://localhost:8080/",
          "height": 265
        }
      },
      "source": [
        "# Step 4: Plot y\n",
        "plt.plot(x, y, '-o')\n",
        "plt.show()"
      ],
      "execution_count": 17,
      "outputs": [
        {
          "output_type": "display_data",
          "data": {
            "image/png": "[encoded data removed]",
            "text/plain": [
              "<Figure size 432x288 with 1 Axes>"
            ]
          },
          "metadata": {
            "tags": [],
            "needs_background": "light"
          }
        }
      ]
    },
    {
      "cell_type": "code",
      "metadata": {
        "id": "UNWKpAS3ifwq"
      },
      "source": [
        "x = np.zeros(100)\n",
        "y=x"
      ],
      "execution_count": 20,
      "outputs": []
    },
    {
      "cell_type": "code",
      "metadata": {
        "id": "TXbALAQwipsC",
        "outputId": "da907dde-310a-409f-a0fa-af3744fdd5d0",
        "colab": {
          "base_uri": "https://localhost:8080/",
          "height": 265
        }
      },
      "source": [
        "plt.plot(x, y, '-o')\n",
        "plt.show()\n"
      ],
      "execution_count": 21,
      "outputs": [
        {
          "output_type": "display_data",
          "data": {
            "image/png": "[encoded data removed]",
            "text/plain": [
              "<Figure size 432x288 with 1 Axes>"
            ]
          },
          "metadata": {
            "tags": [],
            "needs_background": "light"
          }
        }
      ]
    },
    {
      "cell_type": "markdown",
      "metadata": {
        "id": "SZtet6fY-isd"
      },
      "source": [
        "**Activity3** -- Compareing time \n"
      ]
    },
    {
      "cell_type": "code",
      "metadata": {
        "id": "Zwuwlanciva1",
        "outputId": "c1edbb48-b5b9-47be-bfef-1c5a6b8d5afe",
        "colab": {
          "base_uri": "https://localhost:8080/"
        }
      },
      "source": [
        "import time\n",
        "import random\n",
        "\n",
        "A = 1.33\n",
        "N = 1000000\n",
        "B = [random.random() for _ in range(N)]\n",
        "\n",
        "start = time.time()\n",
        "dist = []\n",
        "for b in B:\n",
        "  d = abs(A-b)\n",
        "  dist.append(d)\n",
        "minDist = min(dist)\n",
        "end = time.time()\n",
        "\n",
        "print('The smallest distance is ', minDist)\n",
        "print('Time elapsed: ', end - start, ' s.')"
      ],
      "execution_count": 22,
      "outputs": [
        {
          "output_type": "stream",
          "text": [
            "The smallest distance is  0.3300015918487782\n",
            "Time elapsed:  0.24882721900939941  s.\n"
          ],
          "name": "stdout"
        }
      ]
    },
    {
      "cell_type": "code",
      "metadata": {
        "id": "lK9dFbnm-p8K",
        "outputId": "310104c9-ba33-4a63-e810-44534206318e",
        "colab": {
          "base_uri": "https://localhost:8080/"
        }
      },
      "source": [
        "C = np.array(B) # convert to a numpy array\n",
        "\n",
        "start = time.time()\n",
        "minDist = np.min(np.abs(C-A)) # use \"vectorized\" numpy functions\n",
        "end = time.time()\n",
        "\n",
        "print('The smallest distance is ', minDist)\n",
        "print('Time elapsed: ', end - start, ' s.')"
      ],
      "execution_count": 23,
      "outputs": [
        {
          "output_type": "stream",
          "text": [
            "The smallest distance is  0.3300015918487782\n",
            "Time elapsed:  0.009861946105957031  s.\n"
          ],
          "name": "stdout"
        }
      ]
    },
    {
      "cell_type": "code",
      "metadata": {
        "id": "-a1koS5d-s1V"
      },
      "source": [
        ""
      ],
      "execution_count": null,
      "outputs": []
    }
  ]
}